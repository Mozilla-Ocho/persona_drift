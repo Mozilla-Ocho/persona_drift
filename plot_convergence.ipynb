{
 "cells": [
  {
   "cell_type": "code",
   "execution_count": null,
   "id": "114d64c9",
   "metadata": {},
   "outputs": [],
   "source": [
    "%load_ext autoreload\n",
    "%autoreload 2"
   ]
  },
  {
   "cell_type": "code",
   "execution_count": null,
   "id": "31b368e4-8079-488e-8530-08f8882cf2ae",
   "metadata": {
    "tags": []
   },
   "outputs": [],
   "source": [
    "import pandas as pd\n",
    "import matplotlib.pyplot as plt\n",
    "import seaborn as sns\n",
    "\n",
    "from utils import *\n",
    "from run import *"
   ]
  },
  {
   "cell_type": "markdown",
   "id": "ec61afb0",
   "metadata": {},
   "source": [
    "## Plot for LLaMA2-70B-chat"
   ]
  },
  {
   "cell_type": "code",
   "execution_count": null,
   "id": "fd4d7e8d",
   "metadata": {},
   "outputs": [],
   "source": [
    "df = pd.DataFrame(columns=[\"turns\", \"label\", \"persona_id\", \"user_id\"])\n",
    "do = 1\n",
    "for persona_id in tqdm(range(100)):\n",
    "    persona, probe_str, judge_func = personas[persona_id]\n",
    "    for user_id in range(100):\n",
    "        if user_id == persona_id:\n",
    "            continue\n",
    "        user, probe_str_user, judge_func_user = personas[user_id]\n",
    "        # P1\n",
    "        file_name = f'selfchat/llama2_chat_70B_agent_{persona_id}_user_{user_id}_turn_16.pkl'\n",
    "        try:\n",
    "            with open(file_name, \"rb\") as handle:\n",
    "                pkl = pickle.load(handle)\n",
    "        except:\n",
    "            do = 0\n",
    "        if do:\n",
    "            for i, answers in pkl[\"probed_history_per_turn\"].items():\n",
    "                for answer in answers:\n",
    "                    try:\n",
    "                        fluency = float(is_fluent_english(answer))\n",
    "                        label = float(judge_func(answer)) * fluency\n",
    "                        df = pd.concat([df, pd.DataFrame({\"turns\": [i], \"label\": [label], \"persona_id\": [persona_id], \"user_id\": [user_id]})], ignore_index=True)\n",
    "                    except:\n",
    "                        print(answer)\n",
    "        do = 1\n",
    "df.head()"
   ]
  },
  {
   "cell_type": "code",
   "execution_count": null,
   "id": "efbfc7bc",
   "metadata": {},
   "outputs": [],
   "source": [
    "unique_pairs = df[['persona_id', 'user_id']].drop_duplicates()\n",
    "number_of_unique_pairs = len(unique_pairs)\n",
    "print(number_of_unique_pairs)"
   ]
  },
  {
   "cell_type": "code",
   "execution_count": null,
   "id": "0ca83994",
   "metadata": {},
   "outputs": [],
   "source": [
    "df_temp = df\n",
    "fs = 20\n",
    "sns.set_style(\"darkgrid\", {\"axes.facecolor\": \".95\"})\n",
    "fig, ax =plt.subplots(figsize=(10, 7.5), dpi= 80, facecolor='w', edgecolor='k')\n",
    "plt.rcParams['font.size'] = fs\n",
    "sns.lineplot(data=df_temp, x='turns', y='label', errorbar=('ci', 68), ax=ax)\n",
    "ax.set_xlabel(\"Number of Turns\", fontsize=fs)\n",
    "ax.set_ylabel(\"Persona Stability\", fontsize=fs)\n",
    "ax.tick_params(axis='x', labelsize=fs) \n",
    "ax.tick_params(axis='y', labelsize=fs) \n",
    "ax.set_xlim(right=df[\"turns\"].max(), left=df[\"turns\"].min())\n",
    "plt.show()"
   ]
  },
  {
   "cell_type": "markdown",
   "id": "193660e0",
   "metadata": {},
   "source": [
    "## Plot for GPT-3.5"
   ]
  },
  {
   "cell_type": "code",
   "execution_count": null,
   "id": "201ac991",
   "metadata": {},
   "outputs": [],
   "source": [
    "df = pd.DataFrame(columns=[\"turns\", \"label\", \"persona_id\", \"user_id\"])\n",
    "do = 1\n",
    "for persona_id in tqdm(range(100)):\n",
    "    persona, probe_str, judge_func = personas[persona_id]\n",
    "    for user_id in range(100):\n",
    "        if user_id == persona_id:\n",
    "            continue\n",
    "        user, probe_str_user, judge_func_user = personas[user_id]\n",
    "        # P1\n",
    "        file_name = f'selfchat/gpt-3.5-turbo-16k_agent_{persona_id}_user_{user_id}_turn_32.pkl'\n",
    "        try:\n",
    "            with open(file_name, \"rb\") as handle:\n",
    "                pkl = pickle.load(handle)\n",
    "        except:\n",
    "            do = 0\n",
    "        if do:\n",
    "            for i, answers in pkl[\"probed_history_per_turn\"].items():\n",
    "                for answer in answers:\n",
    "                    try:\n",
    "                        fluency = float(is_fluent_english(answer))\n",
    "                        label = float(judge_func(answer)) * fluency\n",
    "                        df = pd.concat([df, pd.DataFrame({\"turns\": [i], \"label\": [label], \"persona_id\": [persona_id], \"user_id\": [user_id]})], ignore_index=True)\n",
    "                    except:\n",
    "                        print(answer)\n",
    "        do = 1\n",
    "df.head()"
   ]
  },
  {
   "cell_type": "code",
   "execution_count": null,
   "id": "c9127b7f",
   "metadata": {},
   "outputs": [],
   "source": [
    "unique_pairs = df[['persona_id', 'user_id']].drop_duplicates()\n",
    "number_of_unique_pairs = len(unique_pairs)\n",
    "print(number_of_unique_pairs)"
   ]
  },
  {
   "cell_type": "code",
   "execution_count": null,
   "id": "775a457b",
   "metadata": {},
   "outputs": [],
   "source": [
    "df_temp = df\n",
    "fs = 20\n",
    "sns.set_style(\"darkgrid\", {\"axes.facecolor\": \".95\"})\n",
    "fig, ax =plt.subplots(figsize=(10, 7.5), dpi= 80, facecolor='w', edgecolor='k')\n",
    "plt.rcParams['font.size'] = fs\n",
    "sns.lineplot(data=df_temp, x='turns', y='label', errorbar=('ci', 68), ax=ax)\n",
    "ax.set_xlabel(\"Number of Turns\", fontsize=fs)\n",
    "ax.set_ylabel(\"Persona Stability\", fontsize=fs)\n",
    "ax.tick_params(axis='x', labelsize=fs) \n",
    "ax.tick_params(axis='y', labelsize=fs) \n",
    "ax.set_xlim(right=df[\"turns\"].max(), left=df[\"turns\"].min())\n",
    "plt.show()"
   ]
  },
  {
   "cell_type": "code",
   "execution_count": null,
   "id": "56cdb7e6",
   "metadata": {},
   "outputs": [],
   "source": []
  }
 ],
 "metadata": {
  "kernelspec": {
   "display_name": "Python 3",
   "language": "python",
   "name": "python3"
  },
  "language_info": {
   "codemirror_mode": {
    "name": "ipython",
    "version": 3
   },
   "file_extension": ".py",
   "mimetype": "text/x-python",
   "name": "python",
   "nbconvert_exporter": "python",
   "pygments_lexer": "ipython3",
   "version": "3.9.17"
  }
 },
 "nbformat": 4,
 "nbformat_minor": 5
}
